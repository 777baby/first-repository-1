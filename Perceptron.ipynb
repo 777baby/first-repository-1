{
  "nbformat": 4,
  "nbformat_minor": 0,
  "metadata": {
    "colab": {
      "provenance": [],
      "authorship_tag": "ABX9TyNaa47o6S1ox3qEiU+OG7ud",
      "include_colab_link": true
    },
    "kernelspec": {
      "name": "python3",
      "display_name": "Python 3"
    },
    "language_info": {
      "name": "python"
    },
    "accelerator": "GPU",
    "gpuClass": "standard"
  },
  "cells": [
    {
      "cell_type": "markdown",
      "metadata": {
        "id": "view-in-github",
        "colab_type": "text"
      },
      "source": [
        "<a href=\"https://colab.research.google.com/github/wonyoung1217/first-repository/blob/main/Perceptron.ipynb\" target=\"_parent\"><img src=\"https://colab.research.google.com/assets/colab-badge.svg\" alt=\"Open In Colab\"/></a>"
      ]
    },
    {
      "cell_type": "code",
      "execution_count": 2,
      "metadata": {
        "id": "J5Q7Z7uSu74Y"
      },
      "outputs": [],
      "source": [
        "import torch\n",
        "import torch.nn as nn\n",
        "\n",
        "# GPU 사용 설정\n",
        "device = 'cuda' if torch.cuda.is_available() else 'cpu'\n",
        "\n",
        "# Random 함수 사용을 위한 seed value 설정\n",
        "torch.manual_seed(2022)\n",
        "if device == 'cuda':\n",
        "    torch.cuda.manual_seed_all(2022)"
      ]
    },
    {
      "cell_type": "code",
      "source": [
        "X = torch.FloatTensor([\n",
        "    [0, 0],\n",
        "    [0, 1],\n",
        "    [1, 0],\n",
        "    [1, 1]\n",
        "]).to(device)\n",
        "\n",
        "Y = torch.FloatTensor([\n",
        "    [0], [0], [0], [1]\n",
        "]).to(device)"
      ],
      "metadata": {
        "id": "gnrQSV5syaK0"
      },
      "execution_count": 10,
      "outputs": []
    },
    {
      "cell_type": "code",
      "source": [
        "model = nn.Sequential(\n",
        "    nn.Linear(2, 1, bias=True),\n",
        "    nn.Sigmoid()\n",
        ").to(device)"
      ],
      "metadata": {
        "id": "Lv7wgh12yw5l"
      },
      "execution_count": 11,
      "outputs": []
    },
    {
      "cell_type": "code",
      "source": [
        "loss_func = torch.nn.BCELoss().to(device)\n",
        "optimizer = torch.optim.SGD(model.parameters(), lr = 0.01)"
      ],
      "metadata": {
        "id": "vqiDnAc2y-T8"
      },
      "execution_count": 12,
      "outputs": []
    },
    {
      "cell_type": "code",
      "source": [
        "for step in range(20001):\n",
        "    optimizer.zero_grad()\n",
        "\n",
        "    Y_hat = model(X)\n",
        "    loss = loss_func(Y_hat, Y)\n",
        "    loss.backward()\n",
        "    optimizer.step()\n",
        "\n",
        "    if step % 1000 == 0:\n",
        "        print(step, loss.item())"
      ],
      "metadata": {
        "colab": {
          "base_uri": "https://localhost:8080/"
        },
        "id": "8GehqT6Kzrxn",
        "outputId": "8911f091-1e60-4575-c519-abf9814f07cb"
      },
      "execution_count": 13,
      "outputs": [
        {
          "output_type": "stream",
          "name": "stdout",
          "text": [
            "0 0.703931987285614\n",
            "1000 0.4906957149505615\n",
            "2000 0.3793213963508606\n",
            "3000 0.3122674226760864\n",
            "4000 0.2669699788093567\n",
            "5000 0.23389139771461487\n",
            "6000 0.2084333300590515\n",
            "7000 0.18810656666755676\n",
            "8000 0.17143480479717255\n",
            "9000 0.15747860074043274\n",
            "10000 0.14560580253601074\n",
            "11000 0.13537278771400452\n",
            "12000 0.12645688652992249\n",
            "13000 0.11861695349216461\n",
            "14000 0.11166849732398987\n",
            "15000 0.10546746850013733\n",
            "16000 0.09989982843399048\n",
            "17000 0.09487373381853104\n",
            "18000 0.09031429886817932\n",
            "19000 0.08616011589765549\n",
            "20000 0.08235995471477509\n"
          ]
        }
      ]
    },
    {
      "cell_type": "code",
      "source": [
        "with torch.no_grad():\n",
        "    model.eval()\n",
        "    inputs = torch.FloatTensor([\n",
        "        [0, 0],\n",
        "        [0, 1],\n",
        "        [1, 0],\n",
        "        [1, 1]\n",
        "    ]).to(device)\n",
        "    outputs = model(inputs)\n",
        "\n",
        "    print(outputs)\n",
        "    print(outputs > 0.5)"
      ],
      "metadata": {
        "colab": {
          "base_uri": "https://localhost:8080/"
        },
        "id": "FILMFxpr0KR4",
        "outputId": "0e9535d8-6251-423b-fb49-de672da6a604"
      },
      "execution_count": 14,
      "outputs": [
        {
          "output_type": "stream",
          "name": "stdout",
          "text": [
            "tensor([[0.0015],\n",
            "        [0.0910],\n",
            "        [0.0910],\n",
            "        [0.8718]], device='cuda:0')\n",
            "tensor([[False],\n",
            "        [False],\n",
            "        [False],\n",
            "        [ True]], device='cuda:0')\n"
          ]
        }
      ]
    },
    {
      "cell_type": "code",
      "source": [],
      "metadata": {
        "id": "vPBJWpdU2WSc"
      },
      "execution_count": null,
      "outputs": []
    }
  ]
}